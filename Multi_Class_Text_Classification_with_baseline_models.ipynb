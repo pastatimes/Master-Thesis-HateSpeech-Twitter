{
  "nbformat": 4,
  "nbformat_minor": 0,
  "metadata": {
    "colab": {
      "name": "Multi-Class Text Classification with baseline models.ipynb",
      "provenance": [],
      "collapsed_sections": [],
      "include_colab_link": true
    },
    "kernelspec": {
      "name": "python3",
      "display_name": "Python 3"
    }
  },
  "cells": [
    {
      "cell_type": "markdown",
      "metadata": {
        "id": "view-in-github",
        "colab_type": "text"
      },
      "source": [
        "<a href=\"https://colab.research.google.com/github/pastatimes/Master-Thesis-HateSpeech-Twitter/blob/master/Multi_Class_Text_Classification_with_baseline_models.ipynb\" target=\"_parent\"><img src=\"https://colab.research.google.com/assets/colab-badge.svg\" alt=\"Open In Colab\"/></a>"
      ]
    },
    {
      "cell_type": "code",
      "metadata": {
        "id": "4G2Fjy5Hp4Cm",
        "colab_type": "code",
        "colab": {
          "base_uri": "https://localhost:8080/",
          "height": 206
        },
        "outputId": "5527b2ce-818c-4035-91b5-c3475813c913"
      },
      "source": [
        "#source: https://towardsdatascience.com/multi-class-text-classification-with-scikit-learn-12f1e60e0a9f\n",
        "\n",
        "import pandas as pd\n",
        "\n",
        "data = pd.read_excel('/content/drive/My Drive/Annotated tweets/Annotated tweets/2019.xlsx')\n",
        "data.head()"
      ],
      "execution_count": 210,
      "outputs": [
        {
          "output_type": "execute_result",
          "data": {
            "text/html": [
              "<div>\n",
              "<style scoped>\n",
              "    .dataframe tbody tr th:only-of-type {\n",
              "        vertical-align: middle;\n",
              "    }\n",
              "\n",
              "    .dataframe tbody tr th {\n",
              "        vertical-align: top;\n",
              "    }\n",
              "\n",
              "    .dataframe thead th {\n",
              "        text-align: right;\n",
              "    }\n",
              "</style>\n",
              "<table border=\"1\" class=\"dataframe\">\n",
              "  <thead>\n",
              "    <tr style=\"text-align: right;\">\n",
              "      <th></th>\n",
              "      <th>gg_id</th>\n",
              "      <th>text</th>\n",
              "      <th>intent_id</th>\n",
              "      <th>intent.name</th>\n",
              "      <th>created_at</th>\n",
              "      <th>id_str</th>\n",
              "    </tr>\n",
              "  </thead>\n",
              "  <tbody>\n",
              "    <tr>\n",
              "      <th>0</th>\n",
              "      <td>W6bc4eb9e</td>\n",
              "      <td>MEXICO IS PAYING FOR THE WALL through the many...</td>\n",
              "      <td>Neutral</td>\n",
              "      <td>Neutral</td>\n",
              "      <td>2019-01-01 00:40:00</td>\n",
              "      <td>1.080000e+18</td>\n",
              "    </tr>\n",
              "    <tr>\n",
              "      <th>1</th>\n",
              "      <td>L155b7fdb</td>\n",
              "      <td>Mexico is paying for the Wall through the new ...</td>\n",
              "      <td>Neutral</td>\n",
              "      <td>Neutral</td>\n",
              "      <td>2019-02-01 13:35:00</td>\n",
              "      <td>1.080000e+18</td>\n",
              "    </tr>\n",
              "    <tr>\n",
              "      <th>2</th>\n",
              "      <td>Ua4a19b29</td>\n",
              "      <td>The United States Treasury has taken in MANY b...</td>\n",
              "      <td>OffensiveLanguage</td>\n",
              "      <td>Offensive Language</td>\n",
              "      <td>2019-03-01 14:52:00</td>\n",
              "      <td>1.080000e+18</td>\n",
              "    </tr>\n",
              "    <tr>\n",
              "      <th>3</th>\n",
              "      <td>D710d1124</td>\n",
              "      <td>Michael Pillsbury interviewed by @cvpayne: â€œ...</td>\n",
              "      <td>Neutral</td>\n",
              "      <td>Neutral</td>\n",
              "      <td>2019-04-01 01:19:00</td>\n",
              "      <td>1.080000e+24</td>\n",
              "    </tr>\n",
              "    <tr>\n",
              "      <th>4</th>\n",
              "      <td>Rbf56205f</td>\n",
              "      <td>The Democrats could solve the Shutdown problem...</td>\n",
              "      <td>OffensiveLanguage</td>\n",
              "      <td>Offensive Language</td>\n",
              "      <td>2019-05-01 12:57:00</td>\n",
              "      <td>1.080000e+18</td>\n",
              "    </tr>\n",
              "  </tbody>\n",
              "</table>\n",
              "</div>"
            ],
            "text/plain": [
              "       gg_id  ...        id_str\n",
              "0  W6bc4eb9e  ...  1.080000e+18\n",
              "1  L155b7fdb  ...  1.080000e+18\n",
              "2  Ua4a19b29  ...  1.080000e+18\n",
              "3  D710d1124  ...  1.080000e+24\n",
              "4  Rbf56205f  ...  1.080000e+18\n",
              "\n",
              "[5 rows x 6 columns]"
            ]
          },
          "metadata": {
            "tags": []
          },
          "execution_count": 210
        }
      ]
    },
    {
      "cell_type": "code",
      "metadata": {
        "id": "jIfjRBD-BBmx",
        "colab_type": "code",
        "colab": {
          "base_uri": "https://localhost:8080/",
          "height": 55
        },
        "outputId": "bcc736fd-2515-4627-d85f-02cdaac0c4da"
      },
      "source": [
        "from google.colab import drive\n",
        "drive.mount('/content/drive')"
      ],
      "execution_count": null,
      "outputs": [
        {
          "output_type": "stream",
          "text": [
            "Drive already mounted at /content/drive; to attempt to forcibly remount, call drive.mount(\"/content/drive\", force_remount=True).\n"
          ],
          "name": "stdout"
        }
      ]
    },
    {
      "cell_type": "markdown",
      "metadata": {
        "id": "Fysmvja00-9p",
        "colab_type": "text"
      },
      "source": [
        "Data cleaning and label preperation"
      ]
    },
    {
      "cell_type": "code",
      "metadata": {
        "id": "23urSd4RqXMM",
        "colab_type": "code",
        "colab": {
          "base_uri": "https://localhost:8080/",
          "height": 206
        },
        "outputId": "6b7db143-d1bd-4289-bf52-1ef45d5535c0"
      },
      "source": [
        "col = ['text', 'intent_id']\n",
        "df = data[col]\n",
        "df = df[pd.notnull(df['text'])]\n",
        "\n",
        "df['category_id'] = df['intent_id'].factorize()[0]\n",
        "category_id_df = df[['intent_id', 'category_id']].drop_duplicates().sort_values('category_id')\n",
        "category_to_id = dict(category_id_df.values)\n",
        "id_to_category = dict(category_id_df[['category_id', 'intent_id']].values)\n",
        "df.head()"
      ],
      "execution_count": 211,
      "outputs": [
        {
          "output_type": "execute_result",
          "data": {
            "text/html": [
              "<div>\n",
              "<style scoped>\n",
              "    .dataframe tbody tr th:only-of-type {\n",
              "        vertical-align: middle;\n",
              "    }\n",
              "\n",
              "    .dataframe tbody tr th {\n",
              "        vertical-align: top;\n",
              "    }\n",
              "\n",
              "    .dataframe thead th {\n",
              "        text-align: right;\n",
              "    }\n",
              "</style>\n",
              "<table border=\"1\" class=\"dataframe\">\n",
              "  <thead>\n",
              "    <tr style=\"text-align: right;\">\n",
              "      <th></th>\n",
              "      <th>text</th>\n",
              "      <th>intent_id</th>\n",
              "      <th>category_id</th>\n",
              "    </tr>\n",
              "  </thead>\n",
              "  <tbody>\n",
              "    <tr>\n",
              "      <th>0</th>\n",
              "      <td>MEXICO IS PAYING FOR THE WALL through the many...</td>\n",
              "      <td>Neutral</td>\n",
              "      <td>0</td>\n",
              "    </tr>\n",
              "    <tr>\n",
              "      <th>1</th>\n",
              "      <td>Mexico is paying for the Wall through the new ...</td>\n",
              "      <td>Neutral</td>\n",
              "      <td>0</td>\n",
              "    </tr>\n",
              "    <tr>\n",
              "      <th>2</th>\n",
              "      <td>The United States Treasury has taken in MANY b...</td>\n",
              "      <td>OffensiveLanguage</td>\n",
              "      <td>1</td>\n",
              "    </tr>\n",
              "    <tr>\n",
              "      <th>3</th>\n",
              "      <td>Michael Pillsbury interviewed by @cvpayne: â€œ...</td>\n",
              "      <td>Neutral</td>\n",
              "      <td>0</td>\n",
              "    </tr>\n",
              "    <tr>\n",
              "      <th>4</th>\n",
              "      <td>The Democrats could solve the Shutdown problem...</td>\n",
              "      <td>OffensiveLanguage</td>\n",
              "      <td>1</td>\n",
              "    </tr>\n",
              "  </tbody>\n",
              "</table>\n",
              "</div>"
            ],
            "text/plain": [
              "                                                text  ... category_id\n",
              "0  MEXICO IS PAYING FOR THE WALL through the many...  ...           0\n",
              "1  Mexico is paying for the Wall through the new ...  ...           0\n",
              "2  The United States Treasury has taken in MANY b...  ...           1\n",
              "3  Michael Pillsbury interviewed by @cvpayne: â€œ...  ...           0\n",
              "4  The Democrats could solve the Shutdown problem...  ...           1\n",
              "\n",
              "[5 rows x 3 columns]"
            ]
          },
          "metadata": {
            "tags": []
          },
          "execution_count": 211
        }
      ]
    },
    {
      "cell_type": "markdown",
      "metadata": {
        "id": "YpS9O8Sb0gYq",
        "colab_type": "text"
      },
      "source": [
        "Imbalanced Classes \n",
        "\n",
        "*** writing something here about how balanced the classes are"
      ]
    },
    {
      "cell_type": "code",
      "metadata": {
        "id": "6Ue3LMg2reoR",
        "colab_type": "code",
        "colab": {
          "base_uri": "https://localhost:8080/",
          "height": 476
        },
        "outputId": "4ae7bcb9-496a-4e26-e67e-59f5dcc9ae03"
      },
      "source": [
        "import matplotlib.pyplot as plt\n",
        "fig = plt.figure(figsize=(8,6))\n",
        "df.groupby('intent_id').text.count().plot.bar(ylim=0)\n",
        "plt.savefig('/content/drive/My Drive/Annotated tweets/all_years.png')\n",
        "plt.show()\n"
      ],
      "execution_count": null,
      "outputs": [
        {
          "output_type": "display_data",
          "data": {
            "image/png": "[encoded data removed]",
            "text/plain": [
              "<Figure size 576x432 with 1 Axes>"
            ]
          },
          "metadata": {
            "tags": [],
            "needs_background": "light"
          }
        }
      ]
    },
    {
      "cell_type": "markdown",
      "metadata": {
        "id": "1pmCSO2Q54hT",
        "colab_type": "text"
      },
      "source": [
        "Feature extraction"
      ]
    },
    {
      "cell_type": "code",
      "metadata": {
        "id": "c6RV3YatHVZX",
        "colab_type": "code",
        "colab": {
          "base_uri": "https://localhost:8080/",
          "height": 111
        },
        "outputId": "012b4997-6e26-4a0d-fa27-7eb304524007"
      },
      "source": [
        "#Davidson (2017)\n",
        "import nltk\n",
        "nltk.download('stopwords')\n",
        "import string\n",
        "import re\n",
        "\n",
        "from nltk.stem.porter import *\n",
        "from nltk.corpus import stopwords\n",
        "\n",
        "from sklearn.feature_extraction.text import CountVectorizer\n",
        "from sklearn.feature_extraction.text import TfidfTransformer\n",
        "from sklearn.feature_extraction.text import TfidfVectorizer\n",
        "\n",
        "print(stopwords.words('english'))\n",
        "\n",
        "stopwords = nltk.corpus.stopwords.words(\"english\")\n",
        "other_exclusions = [\"#ff\", \"ff\", \"rt\"]\n",
        "stopwords.extend(other_exclusions)\n",
        "\n",
        "stemmer = PorterStemmer()\n",
        "\n",
        "def preprocess(text_string):\n",
        "    \"\"\"\n",
        "    Accepts a text string and replaces:\n",
        "    1) lots of whitespace with one instance\n",
        "    2) mentions with MENTIONHERE\n",
        "\n",
        "    This allows us to get standardized counts of urls and mentions\n",
        "    Without caring about specific people mentioned\n",
        "    \"\"\"\n",
        "    space_pattern = '\\s+'\n",
        "        mention_regex = '@[\\w\\-]+'\n",
        "    parsed_text = re.sub(space_pattern, ' ', text_string)\n",
        "    parsed_text = re.sub(mention_regex, '', parsed_text)\n",
        "    return parsed_text\n",
        "\n",
        "def tokenize(tweet):\n",
        "    \"\"\"Removes punctuation & excess whitespace, sets to lowercase,\n",
        "    and stems tweets. Returns a list of stemmed tokens.\"\"\"\n",
        "    tweet = \" \".join(re.split(\"[^a-zA-Z]*\", tweet.lower())).strip()\n",
        "    tokens = [stemmer.stem(t) for t in tweet.split()]\n",
        "    return tokens\n",
        "\n",
        "\n",
        "tfidf = TfidfVectorizer(\n",
        "    #tfidf = CountVectorizer(),\n",
        "    sublinear_tf=True, #for a logarithmic frequency of 1\n",
        "    #tokenizer=tokenize,\n",
        "    preprocessor=preprocess,\n",
        "    ngram_range=(1, 3),\n",
        "    stop_words='english', #Removes stopwords\n",
        "    use_idf=True,\n",
        "    smooth_idf=False,\n",
        "    norm='l2', #Applies l2 norm smoothing\n",
        "    decode_error='replace',\n",
        "    max_features=20000,\n",
        "    min_df=2,#minimum numbers of documents a word must be present in to be kept\n",
        "    max_df=0.501\n",
        "    )\n",
        "\n",
        "features = tfidf.fit_transform(df.text).toarray()\n",
        "labels = df.category_id\n",
        "features.shape"
      ],
      "execution_count": 212,
      "outputs": [
        {
          "output_type": "stream",
          "text": [
            "[nltk_data] Downloading package stopwords to /root/nltk_data...\n",
            "[nltk_data]   Package stopwords is already up-to-date!\n",
            "['i', 'me', 'my', 'myself', 'we', 'our', 'ours', 'ourselves', 'you', \"you're\", \"you've\", \"you'll\", \"you'd\", 'your', 'yours', 'yourself', 'yourselves', 'he', 'him', 'his', 'himself', 'she', \"she's\", 'her', 'hers', 'herself', 'it', \"it's\", 'its', 'itself', 'they', 'them', 'their', 'theirs', 'themselves', 'what', 'which', 'who', 'whom', 'this', 'that', \"that'll\", 'these', 'those', 'am', 'is', 'are', 'was', 'were', 'be', 'been', 'being', 'have', 'has', 'had', 'having', 'do', 'does', 'did', 'doing', 'a', 'an', 'the', 'and', 'but', 'if', 'or', 'because', 'as', 'until', 'while', 'of', 'at', 'by', 'for', 'with', 'about', 'against', 'between', 'into', 'through', 'during', 'before', 'after', 'above', 'below', 'to', 'from', 'up', 'down', 'in', 'out', 'on', 'off', 'over', 'under', 'again', 'further', 'then', 'once', 'here', 'there', 'when', 'where', 'why', 'how', 'all', 'any', 'both', 'each', 'few', 'more', 'most', 'other', 'some', 'such', 'no', 'nor', 'not', 'only', 'own', 'same', 'so', 'than', 'too', 'very', 's', 't', 'can', 'will', 'just', 'don', \"don't\", 'should', \"should've\", 'now', 'd', 'll', 'm', 'o', 're', 've', 'y', 'ain', 'aren', \"aren't\", 'couldn', \"couldn't\", 'didn', \"didn't\", 'doesn', \"doesn't\", 'hadn', \"hadn't\", 'hasn', \"hasn't\", 'haven', \"haven't\", 'isn', \"isn't\", 'ma', 'mightn', \"mightn't\", 'mustn', \"mustn't\", 'needn', \"needn't\", 'shan', \"shan't\", 'shouldn', \"shouldn't\", 'wasn', \"wasn't\", 'weren', \"weren't\", 'won', \"won't\", 'wouldn', \"wouldn't\"]\n"
          ],
          "name": "stdout"
        },
        {
          "output_type": "execute_result",
          "data": {
            "text/plain": [
              "(458, 2968)"
            ]
          },
          "metadata": {
            "tags": []
          },
          "execution_count": 212
        }
      ]
    },
    {
      "cell_type": "code",
      "metadata": {
        "id": "weu_mSYSsk5_",
        "colab_type": "code",
        "colab": {
          "base_uri": "https://localhost:8080/",
          "height": 571
        },
        "outputId": "96d294c7-b42e-4885-f70f-df26c8d5c2cf"
      },
      "source": [
        "from sklearn.feature_selection import chi2\n",
        "import numpy as np\n",
        "\n",
        "N = 2\n",
        "for Product, category_id in sorted(category_to_id.items()):\n",
        "  features_chi2 = chi2(features, labels == category_id)\n",
        "  indices = np.argsort(features_chi2[0])\n",
        "  feature_names = np.array(tfidf.get_feature_names())[indices]\n",
        "  unigrams = [v for v in feature_names if len(v.split(' ')) == 1]\n",
        "  bigrams = [v for v in feature_names if len(v.split(' ')) == 2]\n",
        "  trigrams = [v for v in feature_names if len(v.split(' ')) == 3]\n",
        "  print(\"# '{}':\".format(Product))\n",
        "  print(\"  . Most correlated unigrams:\\n. {}\".format('\\n. '.join(unigrams[-N:])))\n",
        "  print(\"  . Most correlated bigrams:\\n. {}\".format('\\n. '.join(bigrams[-N:])))\n",
        "  print(\"  . Most correlated trigrams:\\n. {}\".format('\\n. '.join(trigrams[-N:])))\n"
      ],
      "execution_count": 213,
      "outputs": [
        {
          "output_type": "stream",
          "text": [
            "# 'HateSpeech':\n",
            "  . Most correlated unigrams:\n",
            ". Human\n",
            ". illegal\n",
            "  . Most correlated bigrams:\n",
            ". illegal migrants\n",
            ". Human Traffickers\n",
            "  . Most correlated trigrams:\n",
            ". strong immigration laws\n",
            ". Our Country FULL\n",
            "# 'Neutral':\n",
            "  . Most correlated unigrams:\n",
            ". Congresswomen\n",
            ". illegal\n",
            "  . Most correlated bigrams:\n",
            ". Illegal Immigrants\n",
            ". New Mexico\n",
            "  . Most correlated trigrams:\n",
            ". Sleepy Joe Biden\n",
            ". Radical Left Congresswomen\n",
            "# 'OffensiveLanguage':\n",
            "  . Most correlated unigrams:\n",
            ". Ukraine\n",
            ". Sleepy\n",
            "  . Most correlated bigrams:\n",
            ". Nancy Pelosi\n",
            ". Sleepy Joe\n",
            "  . Most correlated trigrams:\n",
            ". worth donâ want\n",
            ". Sleepy Joe Biden\n"
          ],
          "name": "stdout"
        }
      ]
    },
    {
      "cell_type": "markdown",
      "metadata": {
        "id": "fSFhUG6KCNhr",
        "colab_type": "text"
      },
      "source": [
        "Training the classifiers\n"
      ]
    },
    {
      "cell_type": "code",
      "metadata": {
        "id": "SKNCR3xQuZwf",
        "colab_type": "code",
        "colab": {
          "base_uri": "https://localhost:8080/",
          "height": 1000
        },
        "outputId": "d38a9c56-2d12-466a-c98c-3645efbdae16"
      },
      "source": [
        "# source code: https://scikit-learn.org/stable/modules/generated/sklearn.model_selection.StratifiedKFold.html#sklearn.model_selection.StratifiedKFold\n",
        "# https://towardsdatascience.com/how-to-train-test-split-kfold-vs-stratifiedkfold-281767b93869\n",
        "# https://towardsdatascience.com/train-test-split-and-cross-validation-in-python-80b61beca4b6\n",
        "\n",
        "import pandas\n",
        "#from sklearn.model_selection import train_test_split\n",
        "from sklearn.feature_extraction.text import CountVectorizer\n",
        "from sklearn.feature_extraction.text import TfidfTransformer\n",
        "\n",
        "#models\n",
        "from sklearn.linear_model import LogisticRegression\n",
        "from sklearn.ensemble import RandomForestClassifier\n",
        "from sklearn.svm import LinearSVC\n",
        "from sklearn.naive_bayes import MultinomialNB\n",
        "\n",
        "from sklearn.model_selection import cross_val_score\n",
        "from sklearn.model_selection import StratifiedKFold\n",
        "\n",
        "\n",
        "splits=5\n",
        "\n",
        "x = df['text']\n",
        "y = df['intent_id']\n",
        "type(x)\n",
        "\n",
        "kfold = StratifiedKFold(n_splits=splits, shuffle=True, random_state=42)\n",
        "\n",
        "print(\"KFold\")\n",
        "for train_index, test_index in kfold.split(x, y):\n",
        "    print(\"TRAIN:\", train_index, \"TEST:\", test_index)\n",
        "\n",
        "\n",
        "    X_train, X_test = x[train_index], x[test_index] \n",
        "    y_train, y_test = y[train_index], y[test_index]\n",
        "\n"
      ],
      "execution_count": 214,
      "outputs": [
        {
          "output_type": "stream",
          "text": [
            "KFold\n",
            "TRAIN: [  0   3   4   5   6   7   8   9  10  11  12  13  15  16  17  20  22  23\n",
            "  24  25  27  28  29  30  31  32  33  34  35  36  37  38  39  40  41  42\n",
            "  43  45  46  48  50  51  53  54  55  57  58  59  60  61  63  64  65  66\n",
            "  67  68  69  70  71  73  74  75  76  78  79  80  81  83  84  85  86  87\n",
            "  89  90  91  92  93  94  96  97  98 100 101 102 104 106 107 108 109 110\n",
            " 111 112 113 114 116 118 119 120 121 123 124 125 126 127 128 129 130 131\n",
            " 132 133 134 135 136 137 138 139 140 141 142 144 145 146 147 148 149 150\n",
            " 151 152 153 154 155 156 157 158 159 160 162 163 164 166 167 168 169 171\n",
            " 172 173 175 176 177 178 179 180 181 182 183 184 185 187 194 196 197 198\n",
            " 199 200 202 203 204 205 206 208 209 210 211 213 215 216 217 219 220 221\n",
            " 222 223 225 226 227 228 229 230 232 234 235 237 238 239 240 241 242 243\n",
            " 244 245 247 248 250 251 252 254 255 256 257 258 259 261 263 264 266 267\n",
            " 268 269 271 272 273 276 277 278 280 281 282 283 284 285 286 288 289 291\n",
            " 292 293 295 296 297 298 299 300 301 302 303 304 305 306 307 308 309 311\n",
            " 313 314 316 317 318 319 320 321 322 324 325 326 327 328 329 334 336 337\n",
            " 339 341 342 343 344 347 348 349 350 351 352 353 355 356 359 360 363 364\n",
            " 365 366 367 368 369 370 371 374 375 376 378 379 380 381 382 383 384 385\n",
            " 386 387 388 389 390 392 394 395 396 397 398 399 400 402 403 404 405 407\n",
            " 410 411 412 413 414 415 416 417 418 419 421 422 424 425 427 428 429 430\n",
            " 431 432 433 434 435 436 437 439 440 441 442 443 444 446 447 448 449 451\n",
            " 452 453 454 455 456 457] TEST: [  1   2  14  18  19  21  26  44  47  49  52  56  62  72  77  82  88  95\n",
            "  99 103 105 115 117 122 143 161 165 170 174 186 188 189 190 191 192 193\n",
            " 195 201 207 212 214 218 224 231 233 236 246 249 253 260 262 265 270 274\n",
            " 275 279 287 290 294 310 312 315 323 330 331 332 333 335 338 340 345 346\n",
            " 354 357 358 361 362 372 373 377 391 393 401 406 408 409 420 423 426 438\n",
            " 445 450]\n",
            "TRAIN: [  0   1   2   6   7   8   9  11  13  14  15  16  17  18  19  20  21  22\n",
            "  23  25  26  27  28  29  30  31  32  33  34  35  36  37  38  39  40  41\n",
            "  43  44  45  47  48  49  50  51  52  53  54  55  56  58  59  60  61  62\n",
            "  63  64  65  66  67  68  69  71  72  76  77  78  82  83  84  85  86  87\n",
            "  88  89  90  91  92  93  95  96  97  98  99 100 101 102 103 105 107 108\n",
            " 109 110 111 112 114 115 117 119 120 121 122 123 127 128 129 130 131 132\n",
            " 135 136 137 138 139 140 142 143 144 145 148 150 151 153 154 155 156 157\n",
            " 159 161 162 164 165 167 168 169 170 171 173 174 176 177 178 180 182 183\n",
            " 184 185 186 187 188 189 190 191 192 193 194 195 196 198 199 200 201 202\n",
            " 204 205 207 208 209 211 212 213 214 215 217 218 219 220 221 222 223 224\n",
            " 225 226 227 228 229 230 231 232 233 234 236 238 239 240 241 244 246 247\n",
            " 248 249 251 252 253 255 256 257 258 259 260 261 262 263 264 265 266 268\n",
            " 269 270 271 273 274 275 276 277 278 279 281 282 284 285 286 287 288 289\n",
            " 290 291 292 293 294 295 297 298 299 300 301 302 303 304 306 308 310 312\n",
            " 313 314 315 317 318 320 321 322 323 324 325 329 330 331 332 333 334 335\n",
            " 337 338 339 340 341 342 343 344 345 346 347 348 350 351 352 353 354 355\n",
            " 357 358 359 360 361 362 363 364 365 368 369 370 372 373 375 376 377 378\n",
            " 380 381 382 383 386 390 391 392 393 394 395 397 398 399 400 401 402 403\n",
            " 405 406 408 409 411 412 413 414 415 416 417 418 419 420 421 422 423 424\n",
            " 425 426 428 429 430 431 433 436 438 439 440 441 442 443 444 445 446 448\n",
            " 449 450 451 452 454 457] TEST: [  3   4   5  10  12  24  42  46  57  70  73  74  75  79  80  81  94 104\n",
            " 106 113 116 118 124 125 126 133 134 141 146 147 149 152 158 160 163 166\n",
            " 172 175 179 181 197 203 206 210 216 235 237 242 243 245 250 254 267 272\n",
            " 280 283 296 305 307 309 311 316 319 326 327 328 336 349 356 366 367 371\n",
            " 374 379 384 385 387 388 389 396 404 407 410 427 432 434 435 437 447 453\n",
            " 455 456]\n",
            "TRAIN: [  0   1   2   3   4   5   6   7   9  10  11  12  13  14  15  16  17  18\n",
            "  19  20  21  22  24  26  27  30  31  32  33  35  36  38  39  40  42  43\n",
            "  44  45  46  47  48  49  52  54  55  56  57  58  59  60  61  62  63  65\n",
            "  66  67  68  69  70  72  73  74  75  77  78  79  80  81  82  84  87  88\n",
            "  90  91  92  93  94  95  97  98  99 100 101 102 103 104 105 106 107 109\n",
            " 110 111 113 114 115 116 117 118 119 120 121 122 124 125 126 127 129 131\n",
            " 133 134 135 136 137 139 140 141 143 145 146 147 149 151 152 156 158 159\n",
            " 160 161 162 163 165 166 168 170 171 172 173 174 175 176 177 179 181 182\n",
            " 183 184 185 186 187 188 189 190 191 192 193 195 197 198 199 200 201 202\n",
            " 203 205 206 207 209 210 212 214 216 217 218 222 223 224 225 227 228 229\n",
            " 231 232 233 235 236 237 238 239 240 241 242 243 244 245 246 249 250 251\n",
            " 253 254 255 256 257 259 260 261 262 265 267 268 269 270 271 272 273 274\n",
            " 275 276 278 279 280 282 283 284 286 287 288 290 292 294 295 296 297 298\n",
            " 302 303 304 305 306 307 308 309 310 311 312 313 314 315 316 319 322 323\n",
            " 324 325 326 327 328 329 330 331 332 333 334 335 336 337 338 339 340 343\n",
            " 344 345 346 347 349 351 352 353 354 355 356 357 358 359 360 361 362 363\n",
            " 364 366 367 368 369 370 371 372 373 374 375 377 378 379 380 382 383 384\n",
            " 385 387 388 389 391 392 393 394 395 396 397 398 399 400 401 402 403 404\n",
            " 405 406 407 408 409 410 411 412 413 414 416 417 419 420 421 422 423 424\n",
            " 425 426 427 432 434 435 436 437 438 439 440 441 443 444 445 446 447 450\n",
            " 451 453 454 455 456 457] TEST: [  8  23  25  28  29  34  37  41  50  51  53  64  71  76  83  85  86  89\n",
            "  96 108 112 123 128 130 132 138 142 144 148 150 153 154 155 157 164 167\n",
            " 169 178 180 194 196 204 208 211 213 215 219 220 221 226 230 234 247 248\n",
            " 252 258 263 264 266 277 281 285 289 291 293 299 300 301 317 318 320 321\n",
            " 341 342 348 350 365 376 381 386 390 415 418 428 429 430 431 433 442 448\n",
            " 449 452]\n",
            "TRAIN: [  0   1   2   3   4   5   6   8  10  11  12  14  15  16  18  19  21  23\n",
            "  24  25  26  27  28  29  31  32  33  34  35  36  37  38  39  40  41  42\n",
            "  44  45  46  47  48  49  50  51  52  53  54  55  56  57  58  60  62  64\n",
            "  65  69  70  71  72  73  74  75  76  77  78  79  80  81  82  83  84  85\n",
            "  86  87  88  89  94  95  96  98  99 102 103 104 105 106 108 111 112 113\n",
            " 115 116 117 118 119 122 123 124 125 126 127 128 130 131 132 133 134 136\n",
            " 137 138 139 140 141 142 143 144 146 147 148 149 150 152 153 154 155 156\n",
            " 157 158 159 160 161 163 164 165 166 167 169 170 172 174 175 177 178 179\n",
            " 180 181 182 185 186 187 188 189 190 191 192 193 194 195 196 197 199 200\n",
            " 201 202 203 204 206 207 208 210 211 212 213 214 215 216 217 218 219 220\n",
            " 221 224 226 230 231 233 234 235 236 237 238 241 242 243 244 245 246 247\n",
            " 248 249 250 252 253 254 255 256 257 258 260 262 263 264 265 266 267 268\n",
            " 269 270 271 272 273 274 275 277 279 280 281 282 283 285 286 287 289 290\n",
            " 291 293 294 296 298 299 300 301 302 303 304 305 307 309 310 311 312 315\n",
            " 316 317 318 319 320 321 322 323 325 326 327 328 330 331 332 333 334 335\n",
            " 336 338 340 341 342 343 345 346 347 348 349 350 351 353 354 356 357 358\n",
            " 360 361 362 364 365 366 367 368 369 370 371 372 373 374 375 376 377 379\n",
            " 380 381 382 383 384 385 386 387 388 389 390 391 392 393 395 396 397 399\n",
            " 400 401 402 404 405 406 407 408 409 410 414 415 418 420 423 424 426 427\n",
            " 428 429 430 431 432 433 434 435 437 438 440 441 442 443 444 445 447 448\n",
            " 449 450 452 453 455 456 457] TEST: [  7   9  13  17  20  22  30  43  59  61  63  66  67  68  90  91  92  93\n",
            "  97 100 101 107 109 110 114 120 121 129 135 145 151 162 168 171 173 176\n",
            " 183 184 198 205 209 222 223 225 227 228 229 232 239 240 251 259 261 276\n",
            " 278 284 288 292 295 297 306 308 313 314 324 329 337 339 344 352 355 359\n",
            " 363 378 394 398 403 411 412 413 416 417 419 421 422 425 436 439 446 451\n",
            " 454]\n",
            "TRAIN: [  1   2   3   4   5   7   8   9  10  12  13  14  17  18  19  20  21  22\n",
            "  23  24  25  26  28  29  30  34  37  41  42  43  44  46  47  49  50  51\n",
            "  52  53  56  57  59  61  62  63  64  66  67  68  70  71  72  73  74  75\n",
            "  76  77  79  80  81  82  83  85  86  88  89  90  91  92  93  94  95  96\n",
            "  97  99 100 101 103 104 105 106 107 108 109 110 112 113 114 115 116 117\n",
            " 118 120 121 122 123 124 125 126 128 129 130 132 133 134 135 138 141 142\n",
            " 143 144 145 146 147 148 149 150 151 152 153 154 155 157 158 160 161 162\n",
            " 163 164 165 166 167 168 169 170 171 172 173 174 175 176 178 179 180 181\n",
            " 183 184 186 188 189 190 191 192 193 194 195 196 197 198 201 203 204 205\n",
            " 206 207 208 209 210 211 212 213 214 215 216 218 219 220 221 222 223 224\n",
            " 225 226 227 228 229 230 231 232 233 234 235 236 237 239 240 242 243 245\n",
            " 246 247 248 249 250 251 252 253 254 258 259 260 261 262 263 264 265 266\n",
            " 267 270 272 274 275 276 277 278 279 280 281 283 284 285 287 288 289 290\n",
            " 291 292 293 294 295 296 297 299 300 301 305 306 307 308 309 310 311 312\n",
            " 313 314 315 316 317 318 319 320 321 323 324 326 327 328 329 330 331 332\n",
            " 333 335 336 337 338 339 340 341 342 344 345 346 348 349 350 352 354 355\n",
            " 356 357 358 359 361 362 363 365 366 367 371 372 373 374 376 377 378 379\n",
            " 381 384 385 386 387 388 389 390 391 393 394 396 398 401 403 404 406 407\n",
            " 408 409 410 411 412 413 415 416 417 418 419 420 421 422 423 425 426 427\n",
            " 428 429 430 431 432 433 434 435 436 437 438 439 442 445 446 447 448 449\n",
            " 450 451 452 453 454 455 456] TEST: [  0   6  11  15  16  27  31  32  33  35  36  38  39  40  45  48  54  55\n",
            "  58  60  65  69  78  84  87  98 102 111 119 127 131 136 137 139 140 156\n",
            " 159 177 182 185 187 199 200 202 217 238 241 244 255 256 257 268 269 271\n",
            " 273 282 286 298 302 303 304 322 325 334 343 347 351 353 360 364 368 369\n",
            " 370 375 380 382 383 392 395 397 399 400 402 405 414 424 440 441 443 444\n",
            " 457]\n"
          ],
          "name": "stdout"
        }
      ]
    },
    {
      "cell_type": "code",
      "metadata": {
        "id": "X5hqw2XiA5It",
        "colab_type": "code",
        "colab": {
          "base_uri": "https://localhost:8080/",
          "height": 206
        },
        "outputId": "2acedb98-a7f8-4366-cf49-81900b3a7bd2"
      },
      "source": [
        "# Instantiate the classification model\n",
        "models = [\n",
        "    RandomForestClassifier(n_estimators=200, max_depth=3, random_state=0),\n",
        "    LinearSVC(),\n",
        "    MultinomialNB(),\n",
        "    LogisticRegression(random_state=0),]\n",
        "\n",
        "CV = 10 #Number of experiments that is being run\n",
        "cv_df = pd.DataFrame(index=range(CV * len(models)))\n",
        "entries = []\n",
        "\n",
        "for model in models:\n",
        "  model_name = model.__class__.__name__\n",
        "  accuracies = cross_val_score(model, features, labels, scoring='accuracy', cv=CV)\n",
        "  for fold_idx, accuracy in enumerate(accuracies):\n",
        "    entries.append((model_name, fold_idx, accuracy))\n",
        "\n",
        "cv_df = pd.DataFrame(entries, columns=['model_name', 'fold_idx', 'accuracy'])\n",
        "cv_df.head()"
      ],
      "execution_count": 215,
      "outputs": [
        {
          "output_type": "execute_result",
          "data": {
            "text/html": [
              "<div>\n",
              "<style scoped>\n",
              "    .dataframe tbody tr th:only-of-type {\n",
              "        vertical-align: middle;\n",
              "    }\n",
              "\n",
              "    .dataframe tbody tr th {\n",
              "        vertical-align: top;\n",
              "    }\n",
              "\n",
              "    .dataframe thead th {\n",
              "        text-align: right;\n",
              "    }\n",
              "</style>\n",
              "<table border=\"1\" class=\"dataframe\">\n",
              "  <thead>\n",
              "    <tr style=\"text-align: right;\">\n",
              "      <th></th>\n",
              "      <th>model_name</th>\n",
              "      <th>fold_idx</th>\n",
              "      <th>accuracy</th>\n",
              "    </tr>\n",
              "  </thead>\n",
              "  <tbody>\n",
              "    <tr>\n",
              "      <th>0</th>\n",
              "      <td>RandomForestClassifier</td>\n",
              "      <td>0</td>\n",
              "      <td>0.565217</td>\n",
              "    </tr>\n",
              "    <tr>\n",
              "      <th>1</th>\n",
              "      <td>RandomForestClassifier</td>\n",
              "      <td>1</td>\n",
              "      <td>0.565217</td>\n",
              "    </tr>\n",
              "    <tr>\n",
              "      <th>2</th>\n",
              "      <td>RandomForestClassifier</td>\n",
              "      <td>2</td>\n",
              "      <td>0.565217</td>\n",
              "    </tr>\n",
              "    <tr>\n",
              "      <th>3</th>\n",
              "      <td>RandomForestClassifier</td>\n",
              "      <td>3</td>\n",
              "      <td>0.565217</td>\n",
              "    </tr>\n",
              "    <tr>\n",
              "      <th>4</th>\n",
              "      <td>RandomForestClassifier</td>\n",
              "      <td>4</td>\n",
              "      <td>0.565217</td>\n",
              "    </tr>\n",
              "  </tbody>\n",
              "</table>\n",
              "</div>"
            ],
            "text/plain": [
              "               model_name  fold_idx  accuracy\n",
              "0  RandomForestClassifier         0  0.565217\n",
              "1  RandomForestClassifier         1  0.565217\n",
              "2  RandomForestClassifier         2  0.565217\n",
              "3  RandomForestClassifier         3  0.565217\n",
              "4  RandomForestClassifier         4  0.565217"
            ]
          },
          "metadata": {
            "tags": []
          },
          "execution_count": 215
        }
      ]
    },
    {
      "cell_type": "code",
      "metadata": {
        "id": "CSYvfQH016kl",
        "colab_type": "code",
        "colab": {
          "base_uri": "https://localhost:8080/",
          "height": 280
        },
        "outputId": "a9986602-2b63-48c2-8415-98ccaf353600"
      },
      "source": [
        "#plots\n",
        "import seaborn as sns\n",
        "import matplotlib.pyplot as plt\n",
        "\n",
        "sns.boxplot(x='model_name', y='accuracy', data=cv_df)\n",
        "sns.stripplot(x='model_name', y='accuracy', data=cv_df, size=8, jitter=True, edgecolor=\"gray\", linewidth=2)\n",
        "plt.savefig('/content/drive/My Drive/Annotated tweets/2016.png')\n",
        "plt.show()"
      ],
      "execution_count": 193,
      "outputs": [
        {
          "output_type": "display_data",
          "data": {
            "image/png": "[encoded data removed]",
            "text/plain": [
              "<Figure size 432x288 with 1 Axes>"
            ]
          },
          "metadata": {
            "tags": [],
            "needs_background": "light"
          }
        }
      ]
    },
    {
      "cell_type": "code",
      "metadata": {
        "id": "e8l-gC6euoA2",
        "colab_type": "code",
        "colab": {
          "base_uri": "https://localhost:8080/",
          "height": 128
        },
        "outputId": "3a52fe0f-a85e-44a7-91f3-5f207af5ff55"
      },
      "source": [
        "cv_df.groupby('model_name').accuracy.mean()"
      ],
      "execution_count": 216,
      "outputs": [
        {
          "output_type": "execute_result",
          "data": {
            "text/plain": [
              "model_name\n",
              "LinearSVC                 0.604686\n",
              "LogisticRegression        0.596039\n",
              "MultinomialNB             0.611256\n",
              "RandomForestClassifier    0.558937\n",
              "Name: accuracy, dtype: float64"
            ]
          },
          "metadata": {
            "tags": []
          },
          "execution_count": 216
        }
      ]
    },
    {
      "cell_type": "markdown",
      "metadata": {
        "id": "MKLjwfG30ATh",
        "colab_type": "text"
      },
      "source": [
        "Model Evaluation\n",
        "\n",
        "Continue with our best model (X), we are going to look at the confusion matrix, and show the discrepancies between predicted and actual labels."
      ]
    },
    {
      "cell_type": "code",
      "metadata": {
        "id": "QR3yVKe_F-PN",
        "colab_type": "code",
        "colab": {
          "base_uri": "https://localhost:8080/",
          "height": 111
        },
        "outputId": "67eed476-df05-4bc4-ccaf-b3bc23311068"
      },
      "source": [
        "pip install preprocessing"
      ],
      "execution_count": null,
      "outputs": [
        {
          "output_type": "stream",
          "text": [
            "Requirement already satisfied: preprocessing in /usr/local/lib/python3.6/dist-packages (0.1.13)\n",
            "Requirement already satisfied: sphinx-rtd-theme==0.2.4 in /usr/local/lib/python3.6/dist-packages (from preprocessing) (0.2.4)\n",
            "Requirement already satisfied: nltk==3.2.4 in /usr/local/lib/python3.6/dist-packages (from preprocessing) (3.2.4)\n",
            "Requirement already satisfied: six in /usr/local/lib/python3.6/dist-packages (from nltk==3.2.4->preprocessing) (1.15.0)\n"
          ],
          "name": "stdout"
        }
      ]
    },
    {
      "cell_type": "code",
      "metadata": {
        "id": "5jTsZSElvEzY",
        "colab_type": "code",
        "colab": {
          "base_uri": "https://localhost:8080/",
          "height": 610
        },
        "outputId": "dce886cb-2572-43d0-e948-4d2991a9c8fc"
      },
      "source": [
        "from sklearn.model_selection import train_test_split\n",
        "from sklearn.model_selection import StratifiedKFold\n",
        "from sklearn import preprocessing\n",
        "\n",
        "#models\n",
        "from sklearn.linear_model import LogisticRegression\n",
        "from sklearn.ensemble import RandomForestClassifier\n",
        "from sklearn.svm import LinearSVC\n",
        "from sklearn.naive_bayes import MultinomialNB\n",
        "\n",
        "model = MultinomialNB()\n",
        "\n",
        "X_train, X_test, y_train, y_test, indices_train, indices_test = train_test_split(features, labels, df.index, test_size=0.33, random_state=0)\n",
        "#X_train, X_test, y_train, y_test = train_test_split(df['text'], df['intent.id'], random_state = 0)\n",
        "model.fit(X_train, y_train)\n",
        "y_pred = model.predict(X_test)\n",
        "\n",
        "from sklearn.metrics import confusion_matrix\n",
        "import seaborn as sns\n",
        "from matplotlib import pyplot as plt\n",
        "\n",
        "conf_mat = confusion_matrix(y_test, y_pred)\n",
        "fig, ax = plt.subplots(figsize=(10,10))\n",
        "sns.heatmap(conf_mat, annot=True, fmt='d',\n",
        "            xticklabels=category_id_df['intent_id'].values, yticklabels=category_id_df['intent_id'].values)\n",
        "plt.ylabel('Actual')\n",
        "plt.xlabel('Predicted')\n",
        "plt.savefig('/content/drive/My Drive/Annotated tweets/confusion_matrix_2015')\n",
        "plt.show()"
      ],
      "execution_count": 217,
      "outputs": [
        {
          "output_type": "display_data",
          "data": {
            "image/png": "[encoded data removed]",
            "text/plain": [
              "<Figure size 720x720 with 2 Axes>"
            ]
          },
          "metadata": {
            "tags": [],
            "needs_background": "light"
          }
        }
      ]
    },
    {
      "cell_type": "code",
      "metadata": {
        "id": "IKDTCxyYEG7s",
        "colab_type": "code",
        "colab": {
          "base_uri": "https://localhost:8080/",
          "height": 1000
        },
        "outputId": "406188c8-ca9a-4f99-aaad-4e52bad72045"
      },
      "source": [
        "from IPython.display import display\n",
        "\n",
        "for predicted in category_id_df.category_id:\n",
        "  for actual in category_id_df.category_id:\n",
        "    if predicted != actual and conf_mat[actual, predicted] >= 10:\n",
        "      print(\"'{}' predicted as '{}' : {} examples.\".format(id_to_category[actual], id_to_category[predicted], conf_mat[actual, predicted]))\n",
        "      display(df.loc[indices_test[(y_test == actual) & (y_pred == predicted)]][['intent_id', 'text']])\n",
        "      print('')"
      ],
      "execution_count": 218,
      "outputs": [
        {
          "output_type": "stream",
          "text": [
            "'OffensiveLanguage' predicted as 'Neutral' : 49 examples.\n"
          ],
          "name": "stdout"
        },
        {
          "output_type": "display_data",
          "data": {
            "text/html": [
              "<div>\n",
              "<style scoped>\n",
              "    .dataframe tbody tr th:only-of-type {\n",
              "        vertical-align: middle;\n",
              "    }\n",
              "\n",
              "    .dataframe tbody tr th {\n",
              "        vertical-align: top;\n",
              "    }\n",
              "\n",
              "    .dataframe thead th {\n",
              "        text-align: right;\n",
              "    }\n",
              "</style>\n",
              "<table border=\"1\" class=\"dataframe\">\n",
              "  <thead>\n",
              "    <tr style=\"text-align: right;\">\n",
              "      <th></th>\n",
              "      <th>intent_id</th>\n",
              "      <th>text</th>\n",
              "    </tr>\n",
              "  </thead>\n",
              "  <tbody>\n",
              "    <tr>\n",
              "      <th>221</th>\n",
              "      <td>OffensiveLanguage</td>\n",
              "      <td>...Companies to come to the U.S.A and to get c...</td>\n",
              "    </tr>\n",
              "    <tr>\n",
              "      <th>219</th>\n",
              "      <td>OffensiveLanguage</td>\n",
              "      <td>RT @VP: .@POTUSâ€™ strong stand got Mexico to ...</td>\n",
              "    </tr>\n",
              "    <tr>\n",
              "      <th>113</th>\n",
              "      <td>OffensiveLanguage</td>\n",
              "      <td>Once again Israel faces a barrage of deadly ro...</td>\n",
              "    </tr>\n",
              "    <tr>\n",
              "      <th>76</th>\n",
              "      <td>OffensiveLanguage</td>\n",
              "      <td>The Democrats are allowing a ridiculous asylum...</td>\n",
              "    </tr>\n",
              "    <tr>\n",
              "      <th>457</th>\n",
              "      <td>OffensiveLanguage</td>\n",
              "      <td>â€œPoll shows Dems losing interest in Impeachm...</td>\n",
              "    </tr>\n",
              "    <tr>\n",
              "      <th>10</th>\n",
              "      <td>OffensiveLanguage</td>\n",
              "      <td>I often said during rallies with little variat...</td>\n",
              "    </tr>\n",
              "    <tr>\n",
              "      <th>220</th>\n",
              "      <td>OffensiveLanguage</td>\n",
              "      <td>Sad when you think about it but Mexico right n...</td>\n",
              "    </tr>\n",
              "    <tr>\n",
              "      <th>386</th>\n",
              "      <td>OffensiveLanguage</td>\n",
              "      <td>The President of Ukraine said that he was NOT ...</td>\n",
              "    </tr>\n",
              "    <tr>\n",
              "      <th>78</th>\n",
              "      <td>OffensiveLanguage</td>\n",
              "      <td>After many years (decades) Mexico is apprehend...</td>\n",
              "    </tr>\n",
              "    <tr>\n",
              "      <th>90</th>\n",
              "      <td>OffensiveLanguage</td>\n",
              "      <td>In New York State Democrats blocked a Bill exp...</td>\n",
              "    </tr>\n",
              "    <tr>\n",
              "      <th>395</th>\n",
              "      <td>OffensiveLanguage</td>\n",
              "      <td>....and separately got 1.5 Billion Dollars fro...</td>\n",
              "    </tr>\n",
              "    <tr>\n",
              "      <th>423</th>\n",
              "      <td>OffensiveLanguage</td>\n",
              "      <td>After defeating 100% of the ISIS Caliphate I l...</td>\n",
              "    </tr>\n",
              "    <tr>\n",
              "      <th>326</th>\n",
              "      <td>OffensiveLanguage</td>\n",
              "      <td>Doing great with China and other Trade Deals. ...</td>\n",
              "    </tr>\n",
              "    <tr>\n",
              "      <th>297</th>\n",
              "      <td>OffensiveLanguage</td>\n",
              "      <td>China is intent on continuing to receive the h...</td>\n",
              "    </tr>\n",
              "    <tr>\n",
              "      <th>247</th>\n",
              "      <td>OffensiveLanguage</td>\n",
              "      <td>Joe Biden is a reclamation project. Some thing...</td>\n",
              "    </tr>\n",
              "    <tr>\n",
              "      <th>343</th>\n",
              "      <td>OffensiveLanguage</td>\n",
              "      <td>General Motors which was once the Giant of Det...</td>\n",
              "    </tr>\n",
              "    <tr>\n",
              "      <th>332</th>\n",
              "      <td>OffensiveLanguage</td>\n",
              "      <td>For many years China (and many other countries...</td>\n",
              "    </tr>\n",
              "    <tr>\n",
              "      <th>413</th>\n",
              "      <td>OffensiveLanguage</td>\n",
              "      <td>So funny to watch Steve Kerr grovel and pander...</td>\n",
              "    </tr>\n",
              "    <tr>\n",
              "      <th>393</th>\n",
              "      <td>OffensiveLanguage</td>\n",
              "      <td>Somebody please wake up Mitt Romney and tell h...</td>\n",
              "    </tr>\n",
              "    <tr>\n",
              "      <th>287</th>\n",
              "      <td>OffensiveLanguage</td>\n",
              "      <td>What the Market wanted to hear from Jay Powell...</td>\n",
              "    </tr>\n",
              "    <tr>\n",
              "      <th>71</th>\n",
              "      <td>OffensiveLanguage</td>\n",
              "      <td>We have a National Emergency at our Southern B...</td>\n",
              "    </tr>\n",
              "    <tr>\n",
              "      <th>100</th>\n",
              "      <td>OffensiveLanguage</td>\n",
              "      <td>Can anyone comprehend what a GREAT job Border ...</td>\n",
              "    </tr>\n",
              "    <tr>\n",
              "      <th>200</th>\n",
              "      <td>OffensiveLanguage</td>\n",
              "      <td>While the reviews and reporting on our Border ...</td>\n",
              "    </tr>\n",
              "    <tr>\n",
              "      <th>361</th>\n",
              "      <td>OffensiveLanguage</td>\n",
              "      <td>China just enacted a major stimulus plan. With...</td>\n",
              "    </tr>\n",
              "    <tr>\n",
              "      <th>443</th>\n",
              "      <td>OffensiveLanguage</td>\n",
              "      <td>RT @TeamTrump: \"While we're Creating Jobs and ...</td>\n",
              "    </tr>\n",
              "    <tr>\n",
              "      <th>65</th>\n",
              "      <td>OffensiveLanguage</td>\n",
              "      <td>RT @superyayadize: NPR Accidentally Admits Bor...</td>\n",
              "    </tr>\n",
              "    <tr>\n",
              "      <th>179</th>\n",
              "      <td>OffensiveLanguage</td>\n",
              "      <td>In order not to pay Tariffs if they start risi...</td>\n",
              "    </tr>\n",
              "    <tr>\n",
              "      <th>298</th>\n",
              "      <td>OffensiveLanguage</td>\n",
              "      <td>â€œItâ€™s political season and the election is...</td>\n",
              "    </tr>\n",
              "    <tr>\n",
              "      <th>346</th>\n",
              "      <td>OffensiveLanguage</td>\n",
              "      <td>Just watched Congresswoman Debbie Dingell and ...</td>\n",
              "    </tr>\n",
              "    <tr>\n",
              "      <th>141</th>\n",
              "      <td>OffensiveLanguage</td>\n",
              "      <td>RT @GOP: â€œThis is crazy... China not being a...</td>\n",
              "    </tr>\n",
              "    <tr>\n",
              "      <th>316</th>\n",
              "      <td>OffensiveLanguage</td>\n",
              "      <td>RT @realDonaldTrump: Good things were stated o...</td>\n",
              "    </tr>\n",
              "    <tr>\n",
              "      <th>74</th>\n",
              "      <td>OffensiveLanguage</td>\n",
              "      <td>....the Border or large sections of the Border...</td>\n",
              "    </tr>\n",
              "    <tr>\n",
              "      <th>45</th>\n",
              "      <td>OffensiveLanguage</td>\n",
              "      <td>....The U.S. does not want to watch as these I...</td>\n",
              "    </tr>\n",
              "    <tr>\n",
              "      <th>302</th>\n",
              "      <td>OffensiveLanguage</td>\n",
              "      <td>.@sundarpichai of Google was in the Oval Offic...</td>\n",
              "    </tr>\n",
              "    <tr>\n",
              "      <th>369</th>\n",
              "      <td>OffensiveLanguage</td>\n",
              "      <td>How do you impeach a President who has helped ...</td>\n",
              "    </tr>\n",
              "    <tr>\n",
              "      <th>4</th>\n",
              "      <td>OffensiveLanguage</td>\n",
              "      <td>The Democrats could solve the Shutdown problem...</td>\n",
              "    </tr>\n",
              "    <tr>\n",
              "      <th>5</th>\n",
              "      <td>OffensiveLanguage</td>\n",
              "      <td>We are working hard at the Border but we need ...</td>\n",
              "    </tr>\n",
              "    <tr>\n",
              "      <th>7</th>\n",
              "      <td>OffensiveLanguage</td>\n",
              "      <td>â€œWe simply cannot allow people to pour into ...</td>\n",
              "    </tr>\n",
              "    <tr>\n",
              "      <th>246</th>\n",
              "      <td>OffensiveLanguage</td>\n",
              "      <td>Mexico is doing a far better job than the Demo...</td>\n",
              "    </tr>\n",
              "    <tr>\n",
              "      <th>68</th>\n",
              "      <td>OffensiveLanguage</td>\n",
              "      <td>â€œOur own Benjamin Hall is doing fantastic re...</td>\n",
              "    </tr>\n",
              "    <tr>\n",
              "      <th>278</th>\n",
              "      <td>OffensiveLanguage</td>\n",
              "      <td>There may or may not be National Security conc...</td>\n",
              "    </tr>\n",
              "    <tr>\n",
              "      <th>283</th>\n",
              "      <td>OffensiveLanguage</td>\n",
              "      <td>....countries that know how to play the game a...</td>\n",
              "    </tr>\n",
              "    <tr>\n",
              "      <th>64</th>\n",
              "      <td>OffensiveLanguage</td>\n",
              "      <td>Google is helping China and their military but...</td>\n",
              "    </tr>\n",
              "    <tr>\n",
              "      <th>434</th>\n",
              "      <td>OffensiveLanguage</td>\n",
              "      <td>RT @StateDept: Last night the United States br...</td>\n",
              "    </tr>\n",
              "    <tr>\n",
              "      <th>299</th>\n",
              "      <td>OffensiveLanguage</td>\n",
              "      <td>@sundarpichai of Google was in the Oval Office...</td>\n",
              "    </tr>\n",
              "    <tr>\n",
              "      <th>451</th>\n",
              "      <td>OffensiveLanguage</td>\n",
              "      <td>â€œThereâ€™s nothing there! Iâ€™m trying to le...</td>\n",
              "    </tr>\n",
              "    <tr>\n",
              "      <th>295</th>\n",
              "      <td>OffensiveLanguage</td>\n",
              "      <td>China dropped the price of their currency to a...</td>\n",
              "    </tr>\n",
              "    <tr>\n",
              "      <th>317</th>\n",
              "      <td>OffensiveLanguage</td>\n",
              "      <td>The Fake News Media is doing everything they c...</td>\n",
              "    </tr>\n",
              "    <tr>\n",
              "      <th>282</th>\n",
              "      <td>OffensiveLanguage</td>\n",
              "      <td>The E.U. and China will further lower interest...</td>\n",
              "    </tr>\n",
              "  </tbody>\n",
              "</table>\n",
              "</div>"
            ],
            "text/plain": [
              "             intent_id                                               text\n",
              "221  OffensiveLanguage  ...Companies to come to the U.S.A and to get c...\n",
              "219  OffensiveLanguage  RT @VP: .@POTUSâ€™ strong stand got Mexico to ...\n",
              "113  OffensiveLanguage  Once again Israel faces a barrage of deadly ro...\n",
              "76   OffensiveLanguage  The Democrats are allowing a ridiculous asylum...\n",
              "457  OffensiveLanguage  â€œPoll shows Dems losing interest in Impeachm...\n",
              "10   OffensiveLanguage  I often said during rallies with little variat...\n",
              "220  OffensiveLanguage  Sad when you think about it but Mexico right n...\n",
              "386  OffensiveLanguage  The President of Ukraine said that he was NOT ...\n",
              "78   OffensiveLanguage  After many years (decades) Mexico is apprehend...\n",
              "90   OffensiveLanguage  In New York State Democrats blocked a Bill exp...\n",
              "395  OffensiveLanguage  ....and separately got 1.5 Billion Dollars fro...\n",
              "423  OffensiveLanguage  After defeating 100% of the ISIS Caliphate I l...\n",
              "326  OffensiveLanguage  Doing great with China and other Trade Deals. ...\n",
              "297  OffensiveLanguage  China is intent on continuing to receive the h...\n",
              "247  OffensiveLanguage  Joe Biden is a reclamation project. Some thing...\n",
              "343  OffensiveLanguage  General Motors which was once the Giant of Det...\n",
              "332  OffensiveLanguage  For many years China (and many other countries...\n",
              "413  OffensiveLanguage  So funny to watch Steve Kerr grovel and pander...\n",
              "393  OffensiveLanguage  Somebody please wake up Mitt Romney and tell h...\n",
              "287  OffensiveLanguage  What the Market wanted to hear from Jay Powell...\n",
              "71   OffensiveLanguage  We have a National Emergency at our Southern B...\n",
              "100  OffensiveLanguage  Can anyone comprehend what a GREAT job Border ...\n",
              "200  OffensiveLanguage  While the reviews and reporting on our Border ...\n",
              "361  OffensiveLanguage  China just enacted a major stimulus plan. With...\n",
              "443  OffensiveLanguage  RT @TeamTrump: \"While we're Creating Jobs and ...\n",
              "65   OffensiveLanguage  RT @superyayadize: NPR Accidentally Admits Bor...\n",
              "179  OffensiveLanguage  In order not to pay Tariffs if they start risi...\n",
              "298  OffensiveLanguage  â€œItâ€™s political season and the election is...\n",
              "346  OffensiveLanguage  Just watched Congresswoman Debbie Dingell and ...\n",
              "141  OffensiveLanguage  RT @GOP: â€œThis is crazy... China not being a...\n",
              "316  OffensiveLanguage  RT @realDonaldTrump: Good things were stated o...\n",
              "74   OffensiveLanguage  ....the Border or large sections of the Border...\n",
              "45   OffensiveLanguage  ....The U.S. does not want to watch as these I...\n",
              "302  OffensiveLanguage  .@sundarpichai of Google was in the Oval Offic...\n",
              "369  OffensiveLanguage  How do you impeach a President who has helped ...\n",
              "4    OffensiveLanguage  The Democrats could solve the Shutdown problem...\n",
              "5    OffensiveLanguage  We are working hard at the Border but we need ...\n",
              "7    OffensiveLanguage  â€œWe simply cannot allow people to pour into ...\n",
              "246  OffensiveLanguage  Mexico is doing a far better job than the Demo...\n",
              "68   OffensiveLanguage  â€œOur own Benjamin Hall is doing fantastic re...\n",
              "278  OffensiveLanguage  There may or may not be National Security conc...\n",
              "283  OffensiveLanguage  ....countries that know how to play the game a...\n",
              "64   OffensiveLanguage  Google is helping China and their military but...\n",
              "434  OffensiveLanguage  RT @StateDept: Last night the United States br...\n",
              "299  OffensiveLanguage  @sundarpichai of Google was in the Oval Office...\n",
              "451  OffensiveLanguage  â€œThereâ€™s nothing there! Iâ€™m trying to le...\n",
              "295  OffensiveLanguage  China dropped the price of their currency to a...\n",
              "317  OffensiveLanguage  The Fake News Media is doing everything they c...\n",
              "282  OffensiveLanguage  The E.U. and China will further lower interest..."
            ]
          },
          "metadata": {
            "tags": []
          }
        },
        {
          "output_type": "stream",
          "text": [
            "\n",
            "'HateSpeech' predicted as 'Neutral' : 14 examples.\n"
          ],
          "name": "stdout"
        },
        {
          "output_type": "display_data",
          "data": {
            "text/html": [
              "<div>\n",
              "<style scoped>\n",
              "    .dataframe tbody tr th:only-of-type {\n",
              "        vertical-align: middle;\n",
              "    }\n",
              "\n",
              "    .dataframe tbody tr th {\n",
              "        vertical-align: top;\n",
              "    }\n",
              "\n",
              "    .dataframe thead th {\n",
              "        text-align: right;\n",
              "    }\n",
              "</style>\n",
              "<table border=\"1\" class=\"dataframe\">\n",
              "  <thead>\n",
              "    <tr style=\"text-align: right;\">\n",
              "      <th></th>\n",
              "      <th>intent_id</th>\n",
              "      <th>text</th>\n",
              "    </tr>\n",
              "  </thead>\n",
              "  <tbody>\n",
              "    <tr>\n",
              "      <th>311</th>\n",
              "      <td>HateSpeech</td>\n",
              "      <td>We are winning big time against China. Compani...</td>\n",
              "    </tr>\n",
              "    <tr>\n",
              "      <th>12</th>\n",
              "      <td>HateSpeech</td>\n",
              "      <td>...The Steel Barrier or Wall should have been ...</td>\n",
              "    </tr>\n",
              "    <tr>\n",
              "      <th>60</th>\n",
              "      <td>HateSpeech</td>\n",
              "      <td>We are apprehending record numbers of illegal ...</td>\n",
              "    </tr>\n",
              "    <tr>\n",
              "      <th>15</th>\n",
              "      <td>HateSpeech</td>\n",
              "      <td>Starting the long overdue pullout from Syria w...</td>\n",
              "    </tr>\n",
              "    <tr>\n",
              "      <th>59</th>\n",
              "      <td>HateSpeech</td>\n",
              "      <td>Wall Street Journal: â€œMore migrant families ...</td>\n",
              "    </tr>\n",
              "    <tr>\n",
              "      <th>26</th>\n",
              "      <td>HateSpeech</td>\n",
              "      <td>Greatest Witch Hunt in the History of our Coun...</td>\n",
              "    </tr>\n",
              "    <tr>\n",
              "      <th>254</th>\n",
              "      <td>HateSpeech</td>\n",
              "      <td>So interesting to see â€œProgressiveâ€ Democr...</td>\n",
              "    </tr>\n",
              "    <tr>\n",
              "      <th>20</th>\n",
              "      <td>HateSpeech</td>\n",
              "      <td>Mexico is doing NOTHING to stop the Caravan wh...</td>\n",
              "    </tr>\n",
              "    <tr>\n",
              "      <th>272</th>\n",
              "      <td>HateSpeech</td>\n",
              "      <td>RT @KTHopkins: The @realDonaldTrump has made #...</td>\n",
              "    </tr>\n",
              "    <tr>\n",
              "      <th>186</th>\n",
              "      <td>HateSpeech</td>\n",
              "      <td>People have been saying for years that we shou...</td>\n",
              "    </tr>\n",
              "    <tr>\n",
              "      <th>81</th>\n",
              "      <td>HateSpeech</td>\n",
              "      <td>....However if for any reason Mexico stops app...</td>\n",
              "    </tr>\n",
              "    <tr>\n",
              "      <th>329</th>\n",
              "      <td>HateSpeech</td>\n",
              "      <td>....better off without them. The vast amounts ...</td>\n",
              "    </tr>\n",
              "    <tr>\n",
              "      <th>170</th>\n",
              "      <td>HateSpeech</td>\n",
              "      <td>False reporting yesterday. â€œThere are no pla...</td>\n",
              "    </tr>\n",
              "    <tr>\n",
              "      <th>63</th>\n",
              "      <td>HateSpeech</td>\n",
              "      <td>RT @WhiteHouse: January 16 2019: 247 illegal m...</td>\n",
              "    </tr>\n",
              "  </tbody>\n",
              "</table>\n",
              "</div>"
            ],
            "text/plain": [
              "      intent_id                                               text\n",
              "311  HateSpeech  We are winning big time against China. Compani...\n",
              "12   HateSpeech  ...The Steel Barrier or Wall should have been ...\n",
              "60   HateSpeech  We are apprehending record numbers of illegal ...\n",
              "15   HateSpeech  Starting the long overdue pullout from Syria w...\n",
              "59   HateSpeech  Wall Street Journal: â€œMore migrant families ...\n",
              "26   HateSpeech  Greatest Witch Hunt in the History of our Coun...\n",
              "254  HateSpeech  So interesting to see â€œProgressiveâ€ Democr...\n",
              "20   HateSpeech  Mexico is doing NOTHING to stop the Caravan wh...\n",
              "272  HateSpeech  RT @KTHopkins: The @realDonaldTrump has made #...\n",
              "186  HateSpeech  People have been saying for years that we shou...\n",
              "81   HateSpeech  ....However if for any reason Mexico stops app...\n",
              "329  HateSpeech  ....better off without them. The vast amounts ...\n",
              "170  HateSpeech  False reporting yesterday. â€œThere are no pla...\n",
              "63   HateSpeech  RT @WhiteHouse: January 16 2019: 247 illegal m..."
            ]
          },
          "metadata": {
            "tags": []
          }
        },
        {
          "output_type": "stream",
          "text": [
            "\n"
          ],
          "name": "stdout"
        }
      ]
    },
    {
      "cell_type": "code",
      "metadata": {
        "id": "8HNy3-OaEWsx",
        "colab_type": "code",
        "colab": {
          "base_uri": "https://localhost:8080/",
          "height": 571
        },
        "outputId": "4f5f3568-911b-4213-9f64-90e05ea24c8f"
      },
      "source": [
        "model.fit(features, labels)\n",
        "\n",
        "N = 2\n",
        "for intent_id, category_id in sorted(category_to_id.items()):\n",
        "  indices = np.argsort(model.coef_[category_id])\n",
        "  feature_names = np.array(tfidf.get_feature_names())[indices]\n",
        "  unigrams = [v for v in reversed(feature_names) if len(v.split(' ')) == 1][:N]\n",
        "  bigrams = [v for v in reversed(feature_names) if len(v.split(' ')) == 2][:N]\n",
        "  trigrams = [v for v in reversed(feature_names) if len(v.split(' ')) == 3][:N]\n",
        "  print(\"# '{}':\".format(intent_id))\n",
        "  print(\"  . Top unigrams:\\n      . {}\".format('\\n       . '.join(unigrams)))\n",
        "  print(\"  . Top bigrams:\\n       . {}\".format('\\n       . '.join(bigrams)))\n",
        "  print(\"  . Top trigrams:\\n      . {}\".format('\\n       . '.join(trigrams)))"
      ],
      "execution_count": 209,
      "outputs": [
        {
          "output_type": "stream",
          "text": [
            "# 'HateSpeech':\n",
            "  . Top unigrams:\n",
            "      . country\n",
            "       . ISIS\n",
            "  . Top bigrams:\n",
            "       . THE WALL\n",
            "       . MS 13\n",
            "  . Top trigrams:\n",
            "      . North Korean problem\n",
            "       . help North Korea\n",
            "# 'Neutral':\n",
            "  . Top unigrams:\n",
            "      . https\n",
            "       . China\n",
            "  . Top bigrams:\n",
            "       . President Xi\n",
            "       . North Korea\n",
            "  . Top trigrams:\n",
            "      . President Xi China\n",
            "       . President Xi Jinping\n",
            "# 'OffensiveLanguage':\n",
            "  . Top unigrams:\n",
            "      . China\n",
            "       . North\n",
            "  . Top bigrams:\n",
            "       . North Korea\n",
            "       . NYC terrorist\n",
            "  . Top trigrams:\n",
            "      . pay big border\n",
            "       . big border tax\n"
          ],
          "name": "stdout"
        }
      ]
    },
    {
      "cell_type": "code",
      "metadata": {
        "id": "GqK_mKK6EXr1",
        "colab_type": "code",
        "colab": {
          "base_uri": "https://localhost:8080/",
          "height": 202
        },
        "outputId": "a30c9710-772c-4316-99e2-30f349aa9cc6"
      },
      "source": [
        "from sklearn import metrics\n",
        "print(metrics.classification_report(y_test, y_pred, target_names=df['intent_id'].unique(),zero_division=1))"
      ],
      "execution_count": null,
      "outputs": [
        {
          "output_type": "stream",
          "text": [
            "                   precision    recall  f1-score   support\n",
            "\n",
            "OffensiveLanguage       0.60      0.32      0.41        19\n",
            "       HateSpeech       0.83      0.45      0.59        11\n",
            "          Neutral       0.21      0.80      0.33         5\n",
            "\n",
            "         accuracy                           0.43        35\n",
            "        macro avg       0.55      0.52      0.45        35\n",
            "     weighted avg       0.62      0.43      0.46        35\n",
            "\n"
          ],
          "name": "stdout"
        }
      ]
    }
  ]
}